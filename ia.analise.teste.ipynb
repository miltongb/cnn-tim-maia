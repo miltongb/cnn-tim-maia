{
  "cells": [
    {
      "cell_type": "markdown",
      "metadata": {
        "id": "view-in-github",
        "colab_type": "text"
      },
      "source": [
        "<a href=\"https://colab.research.google.com/github/miltongb/cnn-tim-maia/blob/main/ia.analise.teste.ipynb\" target=\"_parent\"><img src=\"https://colab.research.google.com/assets/colab-badge.svg\" alt=\"Open In Colab\"/></a>"
      ]
    },
    {
      "cell_type": "code",
      "execution_count": null,
      "id": "e7edee60",
      "metadata": {
        "id": "e7edee60"
      },
      "outputs": [],
      "source": [
        "# Importar as bibliotecas necessárias: destaque para pytorch\n",
        "\n",
        "import numpy as np\n",
        "import PIL.Image\n",
        "\n",
        "import torch, torchvision\n",
        "from torchvision import datasets, models, transforms\n",
        "from torch.utils.data import DataLoader\n",
        "import torch.nn as nn\n",
        "import torch.optim as optim\n",
        "import time\n",
        "\n",
        "from matplotlib import pyplot as plt\n",
        "\n",
        "import os"
      ]
    },
    {
      "cell_type": "code",
      "execution_count": null,
      "id": "fa697e94",
      "metadata": {
        "id": "fa697e94"
      },
      "outputs": [],
      "source": [
        "image_size = 100\n",
        "\n",
        "# Transformando as imagens: para modelos mais robustos tem que caprichar no data augmentation!\n",
        "# Nesse caso não fizemos nada além do redimensionamento da imagem, mas é sempre bom fazer rotações,\n",
        "# espelhamentos, crop randomicos pra garantir \n",
        "transformacoes_de_imagens = { \n",
        "    'treino': transforms.Compose([\n",
        "        transforms.Resize(size=[image_size, image_size]),\n",
        "        transforms.ToTensor(),\n",
        "    ]),\n",
        "    'validacao': transforms.Compose([\n",
        "        transforms.Resize(size=[image_size, image_size]),\n",
        "        transforms.ToTensor(),\n",
        "    ]),\n",
        "    'teste': transforms.Compose([\n",
        "        transforms.Resize(size=[image_size, image_size]),\n",
        "        transforms.ToTensor(),\n",
        "    ])\n",
        "}"
      ]
    },
    {
      "cell_type": "code",
      "source": [
        "from google.colab import drive\n",
        "drive.mount(\"/content/drive\", force_remount=True)"
      ],
      "metadata": {
        "colab": {
          "base_uri": "https://localhost:8080/"
        },
        "id": "xnpXmebZxKGU",
        "outputId": "820e146d-08cc-45e2-ecaa-399414496b6f"
      },
      "id": "xnpXmebZxKGU",
      "execution_count": null,
      "outputs": [
        {
          "output_type": "stream",
          "name": "stdout",
          "text": [
            "Mounted at /content/drive\n"
          ]
        }
      ]
    },
    {
      "cell_type": "markdown",
      "source": [],
      "metadata": {
        "id": "6N1OvSxMwlSB"
      },
      "id": "6N1OvSxMwlSB"
    },
    {
      "cell_type": "code",
      "execution_count": null,
      "id": "35c63fd9",
      "metadata": {
        "id": "35c63fd9"
      },
      "outputs": [],
      "source": [
        "# Carregar as imagens\n",
        "# Determinar as pastas de treino, validação e teste\n",
        "\n",
        "dataset = r'./content/drive/MyDrive/PLIPS/data/'\n",
        "\n",
        "pasta_treino = os.path.join(dataset, '/content/drive/MyDrive/PLIPS/data/treino')\n",
        "pasta_validacao = os.path.join(dataset, '/content/drive/MyDrive/PLIPS/data/validacao')\n",
        "pasta_teste = os.path.join(dataset, '/content/drive/MyDrive/PLIPS/data/teste')"
      ]
    },
    {
      "cell_type": "code",
      "execution_count": null,
      "id": "bf755e0c",
      "metadata": {
        "id": "bf755e0c"
      },
      "outputs": [],
      "source": [
        "# Tamanho do batch de treinamento\n",
        "bs = 8\n",
        "\n",
        "# Determinando o número de classes\n",
        "numero_de_classes = len(os.listdir(pasta_validacao))  "
      ]
    },
    {
      "cell_type": "code",
      "execution_count": null,
      "id": "db64aa51",
      "metadata": {
        "id": "db64aa51",
        "outputId": "ffcac429-def7-4569-a739-ead1d8fcdd9c",
        "colab": {
          "base_uri": "https://localhost:8080/"
        }
      },
      "outputs": [
        {
          "output_type": "execute_result",
          "data": {
            "text/plain": [
              "3"
            ]
          },
          "metadata": {},
          "execution_count": 6
        }
      ],
      "source": [
        "numero_de_classes"
      ]
    },
    {
      "cell_type": "code",
      "execution_count": null,
      "id": "46c8f32d",
      "metadata": {
        "id": "46c8f32d"
      },
      "outputs": [],
      "source": [
        "# Carregar as imagens usando o datasets do torchvision\n",
        "data = {\n",
        "    'treino': datasets.ImageFolder(root=pasta_treino, transform=transformacoes_de_imagens['treino']),\n",
        "    'validacao': datasets.ImageFolder(root=pasta_validacao, transform=transformacoes_de_imagens['validacao'])\n",
        "}"
      ]
    },
    {
      "cell_type": "code",
      "execution_count": null,
      "id": "611a5fd1",
      "metadata": {
        "id": "611a5fd1",
        "outputId": "9b393e2c-0fd5-4300-d24e-e3ae39bfe1c8",
        "colab": {
          "base_uri": "https://localhost:8080/"
        }
      },
      "outputs": [
        {
          "output_type": "execute_result",
          "data": {
            "text/plain": [
              "{'treino': Dataset ImageFolder\n",
              "     Number of datapoints: 86\n",
              "     Root location: /content/drive/MyDrive/PLIPS/data/treino\n",
              "     StandardTransform\n",
              " Transform: Compose(\n",
              "                Resize(size=[100, 100], interpolation=bilinear, max_size=None, antialias=None)\n",
              "                ToTensor()\n",
              "            ), 'validacao': Dataset ImageFolder\n",
              "     Number of datapoints: 15\n",
              "     Root location: /content/drive/MyDrive/PLIPS/data/validacao\n",
              "     StandardTransform\n",
              " Transform: Compose(\n",
              "                Resize(size=[100, 100], interpolation=bilinear, max_size=None, antialias=None)\n",
              "                ToTensor()\n",
              "            )}"
            ]
          },
          "metadata": {},
          "execution_count": 8
        }
      ],
      "source": [
        "data"
      ]
    },
    {
      "cell_type": "code",
      "execution_count": null,
      "id": "bd224230",
      "metadata": {
        "id": "bd224230",
        "outputId": "3e6888b9-f365-481c-beb1-64b11b01f9e8",
        "colab": {
          "base_uri": "https://localhost:8080/"
        }
      },
      "outputs": [
        {
          "output_type": "stream",
          "name": "stdout",
          "text": [
            "{0: 'chocolate', 1: 'cocacola', 2: 'guarana'}\n"
          ]
        }
      ],
      "source": [
        "# Mapear os índices com os nomes das classes (entregue e devolvido)\n",
        "indice_para_classe = {v: k for k, v in data['treino'].class_to_idx.items()}\n",
        "print(indice_para_classe)\n",
        "\n",
        "# Quantidade de imagens para serem utilizados para calcular erro médio e acurácia\n",
        "num_imagens_treino = len(data['treino'])\n",
        "num_imagens_validacao = len(data['validacao'])\n",
        "\n",
        "# Cria os DataLoaders para treino e validação\n",
        "data_loader_treino = DataLoader(data['treino'], batch_size=bs, shuffle=True)\n",
        "data_loader_validacao = DataLoader(data['validacao'], batch_size=bs, shuffle=True)"
      ]
    },
    {
      "cell_type": "code",
      "execution_count": null,
      "id": "0669fffb",
      "metadata": {
        "id": "0669fffb",
        "outputId": "79dbb184-7660-4e08-b07e-76dbe7c672e1",
        "colab": {
          "base_uri": "https://localhost:8080/",
          "height": 781
        }
      },
      "outputs": [
        {
          "output_type": "display_data",
          "data": {
            "image/jpeg": "[encoded data removed]",
            "text/plain": [
              "<IPython.core.display.Image object>"
            ]
          },
          "metadata": {}
        },
        {
          "output_type": "display_data",
          "data": {
            "image/jpeg": "[encoded data removed]",
            "text/plain": [
              "<IPython.core.display.Image object>"
            ]
          },
          "metadata": {}
        },
        {
          "output_type": "display_data",
          "data": {
            "image/jpeg": "[encoded data removed]",
            "text/plain": [
              "<IPython.core.display.Image object>"
            ]
          },
          "metadata": {}
        }
      ],
      "source": [
        "from IPython.display import Image \n",
        "\n",
        "# Mostrar algumas imagens\n",
        "for classe in indice_para_classe.values():\n",
        "    pasta_classe = os.path.join(pasta_treino, classe)\n",
        "    arquivo_imagem = os.listdir(pasta_classe)[0]\n",
        "    img = Image(filename=os.path.join(pasta_classe, arquivo_imagem))\n",
        "    display(img)"
      ]
    },
    {
      "cell_type": "code",
      "execution_count": null,
      "id": "43b4e064",
      "metadata": {
        "id": "43b4e064",
        "outputId": "05ba3d86-7b4c-4ae7-ecbd-739f120120a9",
        "colab": {
          "base_uri": "https://localhost:8080/",
          "height": 654,
          "referenced_widgets": [
            "44a4060afcd44937a69476cfaae5dd79",
            "93c1090f6f124d109e8e9e81940f8d5d",
            "5d0147e1ec46451a9771470d1dbfab38",
            "ed5f8fbb130b4199af2ac971f8aa8438",
            "ebfe092a2ede4c729861d7c0ae112161",
            "143b7c09a0af49fca0919ad56d2c14ec",
            "2f700cfb9d0b49d88930d7b3136e13f8",
            "6b1f9369e3934a3f87ca9b1cd0e4fc8f",
            "5ebd1af2abbd4035b7787f9137e927af",
            "663a5bab8d6a45f0bbe60bd556bc3d0d",
            "b5486f60a2864393b24e5a795dc21528"
          ]
        }
      },
      "outputs": [
        {
          "output_type": "stream",
          "name": "stderr",
          "text": [
            "/usr/local/lib/python3.8/dist-packages/torchvision/models/_utils.py:208: UserWarning: The parameter 'pretrained' is deprecated since 0.13 and may be removed in the future, please use 'weights' instead.\n",
            "  warnings.warn(\n",
            "/usr/local/lib/python3.8/dist-packages/torchvision/models/_utils.py:223: UserWarning: Arguments other than a weight enum or `None` for 'weights' are deprecated since 0.13 and may be removed in the future. The current behavior is equivalent to passing `weights=AlexNet_Weights.IMAGENET1K_V1`. You can also use `weights=AlexNet_Weights.DEFAULT` to get the most up-to-date weights.\n",
            "  warnings.warn(msg)\n",
            "Downloading: \"https://download.pytorch.org/models/alexnet-owt-7be5be79.pth\" to /root/.cache/torch/hub/checkpoints/alexnet-owt-7be5be79.pth\n"
          ]
        },
        {
          "output_type": "display_data",
          "data": {
            "text/plain": [
              "  0%|          | 0.00/233M [00:00<?, ?B/s]"
            ],
            "application/vnd.jupyter.widget-view+json": {
              "version_major": 2,
              "version_minor": 0,
              "model_id": "44a4060afcd44937a69476cfaae5dd79"
            }
          },
          "metadata": {}
        },
        {
          "output_type": "execute_result",
          "data": {
            "text/plain": [
              "AlexNet(\n",
              "  (features): Sequential(\n",
              "    (0): Conv2d(3, 64, kernel_size=(11, 11), stride=(4, 4), padding=(2, 2))\n",
              "    (1): ReLU(inplace=True)\n",
              "    (2): MaxPool2d(kernel_size=3, stride=2, padding=0, dilation=1, ceil_mode=False)\n",
              "    (3): Conv2d(64, 192, kernel_size=(5, 5), stride=(1, 1), padding=(2, 2))\n",
              "    (4): ReLU(inplace=True)\n",
              "    (5): MaxPool2d(kernel_size=3, stride=2, padding=0, dilation=1, ceil_mode=False)\n",
              "    (6): Conv2d(192, 384, kernel_size=(3, 3), stride=(1, 1), padding=(1, 1))\n",
              "    (7): ReLU(inplace=True)\n",
              "    (8): Conv2d(384, 256, kernel_size=(3, 3), stride=(1, 1), padding=(1, 1))\n",
              "    (9): ReLU(inplace=True)\n",
              "    (10): Conv2d(256, 256, kernel_size=(3, 3), stride=(1, 1), padding=(1, 1))\n",
              "    (11): ReLU(inplace=True)\n",
              "    (12): MaxPool2d(kernel_size=3, stride=2, padding=0, dilation=1, ceil_mode=False)\n",
              "  )\n",
              "  (avgpool): AdaptiveAvgPool2d(output_size=(6, 6))\n",
              "  (classifier): Sequential(\n",
              "    (0): Dropout(p=0.5, inplace=False)\n",
              "    (1): Linear(in_features=9216, out_features=4096, bias=True)\n",
              "    (2): ReLU(inplace=True)\n",
              "    (3): Dropout(p=0.5, inplace=False)\n",
              "    (4): Linear(in_features=4096, out_features=4096, bias=True)\n",
              "    (5): ReLU(inplace=True)\n",
              "    (6): Linear(in_features=4096, out_features=1000, bias=True)\n",
              "  )\n",
              ")"
            ]
          },
          "metadata": {},
          "execution_count": 14
        }
      ],
      "source": [
        "alexnet = models.alexnet(pretrained=True)\n",
        "alexnet"
      ]
    },
    {
      "cell_type": "code",
      "execution_count": null,
      "id": "7cafdd36",
      "metadata": {
        "id": "7cafdd36"
      },
      "outputs": [],
      "source": [
        "# Congelar os parametros da rede pré-treinada\n",
        "for param in alexnet.parameters():\n",
        "    param.requires_grad = False"
      ]
    },
    {
      "cell_type": "code",
      "execution_count": null,
      "id": "09ef129e",
      "metadata": {
        "id": "09ef129e",
        "outputId": "0b88f9c6-848d-4e88-e9a7-d3f533990053",
        "colab": {
          "base_uri": "https://localhost:8080/"
        }
      },
      "outputs": [
        {
          "output_type": "execute_result",
          "data": {
            "text/plain": [
              "AlexNet(\n",
              "  (features): Sequential(\n",
              "    (0): Conv2d(3, 64, kernel_size=(11, 11), stride=(4, 4), padding=(2, 2))\n",
              "    (1): ReLU(inplace=True)\n",
              "    (2): MaxPool2d(kernel_size=3, stride=2, padding=0, dilation=1, ceil_mode=False)\n",
              "    (3): Conv2d(64, 192, kernel_size=(5, 5), stride=(1, 1), padding=(2, 2))\n",
              "    (4): ReLU(inplace=True)\n",
              "    (5): MaxPool2d(kernel_size=3, stride=2, padding=0, dilation=1, ceil_mode=False)\n",
              "    (6): Conv2d(192, 384, kernel_size=(3, 3), stride=(1, 1), padding=(1, 1))\n",
              "    (7): ReLU(inplace=True)\n",
              "    (8): Conv2d(384, 256, kernel_size=(3, 3), stride=(1, 1), padding=(1, 1))\n",
              "    (9): ReLU(inplace=True)\n",
              "    (10): Conv2d(256, 256, kernel_size=(3, 3), stride=(1, 1), padding=(1, 1))\n",
              "    (11): ReLU(inplace=True)\n",
              "    (12): MaxPool2d(kernel_size=3, stride=2, padding=0, dilation=1, ceil_mode=False)\n",
              "  )\n",
              "  (avgpool): AdaptiveAvgPool2d(output_size=(6, 6))\n",
              "  (classifier): Sequential(\n",
              "    (0): Dropout(p=0.5, inplace=False)\n",
              "    (1): Linear(in_features=9216, out_features=4096, bias=True)\n",
              "    (2): ReLU(inplace=True)\n",
              "    (3): Dropout(p=0.5, inplace=False)\n",
              "    (4): Linear(in_features=4096, out_features=4096, bias=True)\n",
              "    (5): ReLU(inplace=True)\n",
              "    (6): Linear(in_features=4096, out_features=3, bias=True)\n",
              "    (7): LogSoftmax(dim=1)\n",
              "  )\n",
              ")"
            ]
          },
          "metadata": {},
          "execution_count": 16
        }
      ],
      "source": [
        "# Mudar a última camada para alterar o número de classes\n",
        "alexnet.classifier[6] = nn.Linear(4096, numero_de_classes)\n",
        "alexnet.classifier.add_module(\"7\", nn.LogSoftmax(dim = 1))\n",
        "alexnet"
      ]
    },
    {
      "cell_type": "code",
      "execution_count": null,
      "id": "8be1338d",
      "metadata": {
        "id": "8be1338d",
        "outputId": "bb140619-6a89-4788-c53e-eefd9058b5b1",
        "colab": {
          "base_uri": "https://localhost:8080/"
        }
      },
      "outputs": [
        {
          "output_type": "execute_result",
          "data": {
            "text/plain": [
              "Adam (\n",
              "Parameter Group 0\n",
              "    amsgrad: False\n",
              "    betas: (0.9, 0.999)\n",
              "    capturable: False\n",
              "    differentiable: False\n",
              "    eps: 1e-08\n",
              "    foreach: None\n",
              "    fused: False\n",
              "    lr: 0.001\n",
              "    maximize: False\n",
              "    weight_decay: 0\n",
              ")"
            ]
          },
          "metadata": {},
          "execution_count": 17
        }
      ],
      "source": [
        "# Definição de algoritmo de otimização de gradiente descendente e função de erro\n",
        "funcao_erro = nn.NLLLoss() # negative log likelihood loss\n",
        "otimizador = optim.Adam(alexnet.parameters()) # otimizador de passos para o SGD\n",
        "otimizador"
      ]
    },
    {
      "cell_type": "code",
      "execution_count": null,
      "id": "3e3b2846",
      "metadata": {
        "id": "3e3b2846"
      },
      "outputs": [],
      "source": [
        "def treinar_e_validar(modelo, metrica_erro, otimizador_sgd, epocas=25):\n",
        "    '''\n",
        "    Função para treinamento e validação\n",
        "    Parâmetros\n",
        "        :param modelo: modelo para treinar e validar\n",
        "        :param metrica_erro: critério de erro para minização\n",
        "        :param otimizador_sgd: otimizador para calcular os gradientes\n",
        "        :param epocas: número de épocas (default=25)\n",
        "  \n",
        "    Retorna\n",
        "        melhor_modelo: modelo treinado com a melhor acurácia na validação\n",
        "        historico: (dicionário): histórico com erro no treinamento, erro na validação e acurácia\n",
        "    '''\n",
        "    \n",
        "    # inicializando historico, a melhor acuracia de validação e o melhor modelo de acordo com a validação\n",
        "    historico = []\n",
        "    melhor_acuracia = 0.0\n",
        "    melhor_modelo = None\n",
        "\n",
        "    # Cada época perpassa todas as imagens do treino e calcula erros de treino e validação\n",
        "    # para aprendizado da rede neural\n",
        "    for epoca in range(epocas):\n",
        "        inicio_epoca = time.time()\n",
        "        print(\"\\n\\nÉpoca: {}/{}\".format(epoca+1, epocas))\n",
        "        \n",
        "        # Mudar o modelo para modo treino: vai atualizar os parametros da rede neural\n",
        "        modelo.train()\n",
        "        \n",
        "        # Erro e acurácia de treino nessa época\n",
        "        erro_treino = 0.0\n",
        "        acuracia_treino = 0.0\n",
        "        \n",
        "        # Erro e acurácia de validação nessa época\n",
        "        erro_validacao = 0.0\n",
        "        acuracia_validacao = 0.0\n",
        "        \n",
        "        # Itera a cada lote de imagem. As entradas são os tensores do lote (batch)\n",
        "        # e o label são as classificações de cada imagem do lote: \n",
        "        # chocolate, guaraná ou coca cola (0, 1 e 2)\n",
        "        for i, (entradas, labels) in enumerate(data_loader_treino):\n",
        "\n",
        "            # joga pra GPU ou CPU, dependendo do seu hardware\n",
        "            entradas = entradas.to(device)\n",
        "            labels = labels.to(device)\n",
        "            \n",
        "            # Limpar os gradientes: zerar os gradientes\n",
        "            otimizador_sgd.zero_grad()\n",
        "            \n",
        "            # Forward pass - calcular saídas a partir das entradas utilizando o modelo\n",
        "            saidas = modelo(entradas)\n",
        "            \n",
        "            # Calcular erro das saidas que foram preditas no forward pass\n",
        "            # comparando com as classificacoes reais (predito vs real)\n",
        "            erro = metrica_erro(saidas, labels)\n",
        "            \n",
        "            # Realizar backpropagation do erro para treinar os coeficientes da rede\n",
        "            erro.backward()\n",
        "            \n",
        "            # Atualizar os parâmetros do otimizador (no nosso caso, Adam Optimizer)\n",
        "            otimizador_sgd.step()\n",
        "            \n",
        "            # Calcular o erro total para esse lote (batch) e soma o erro no treino\n",
        "            erro_treino += erro.item() * entradas.size(0)\n",
        "            \n",
        "            # Cálculo da acurácia\n",
        "            # Pra calcular a acurácia temos que buscar as classes preditas para cada imagem no lote\n",
        "            \n",
        "            # Cada tensor é uma imagem do lote com três posições: probabilidades de cada classe\n",
        "            # torch.max vai retornar o valor da maior probabilidade, bem como a posição no tensor (tupla de saída)\n",
        "            # A posição, portanto, vai indicar a classe com maior probabilidade (0,1 ou 2)\n",
        "            # 1o busca o valor máximo de cada tensor de cada imagem, que vai dar \n",
        "            valores_maximos, indices_dos_valores_maximos = torch.max(saidas.data, 1)\n",
        "            predicoes_corretas = indices_dos_valores_maximos.eq(labels.data.view_as(indices_dos_valores_maximos))\n",
        "            \n",
        "            # Converter os acertos para float e calcular a acurácia média\n",
        "            acuracia = torch.mean(predicoes_corretas.type(torch.FloatTensor))\n",
        "            \n",
        "            # Calcular a acurácia total de treino do lote todo e adicionar a em train_acc\n",
        "            acuracia_treino += acuracia.item() * entradas.size(0)\n",
        "            \n",
        "            print(\"Treino - Lote número {:03d}, Erro: {:.4f}, Acurácia: {:.4f}\".format(i, erro.item(), acuracia.item()))\n",
        "\n",
        "            \n",
        "        # Validação - não é necessário rastrear os gradientes, pois o modelo não vai ser treinado com a validação\n",
        "        with torch.no_grad():\n",
        "\n",
        "            # Mudando de treino para validação\n",
        "            modelo.eval()\n",
        "\n",
        "            # Iteração de validação\n",
        "            for j, (entradas, labels) in enumerate(data_loader_validacao):\n",
        "                entradas = entradas.to(device)\n",
        "                labels = labels.to(device)\n",
        "\n",
        "                # Forward pass de validação\n",
        "                saidas = modelo(entradas)\n",
        "\n",
        "                # Calcular erro de validação\n",
        "                erro = metrica_erro(saidas, labels)\n",
        "\n",
        "                # Calcular erro de validação e adicionar a valid_loss\n",
        "                erro_validacao += erro.item() * entradas.size(0)\n",
        "\n",
        "                # Calcular a acurácia de validação\n",
        "                valores_maximos, indices_dos_valores_maximos = torch.max(saidas.data, 1)\n",
        "                predicoes_corretas = indices_dos_valores_maximos.eq(labels.data.view_as(indices_dos_valores_maximos))\n",
        "\n",
        "                # Converter os acertos para float e calcular a acurácia média\n",
        "                acuracia = torch.mean(predicoes_corretas.type(torch.FloatTensor))\n",
        "\n",
        "                # Calcular a acurácia total de validação do lote todo e adicionar a em train_acc\n",
        "                acuracia_validacao += acuracia.item() * entradas.size(0)\n",
        "\n",
        "                print(\"Validação - Lote número: {:03d}, Erro: {:.4f}, Acurácia: {:.4f}\".format(j, erro.item(), acuracia.item()))\n",
        "            \n",
        "        # Calcular a média de erro e acurácia no treino\n",
        "        erro_medio_treino = erro_treino/num_imagens_treino\n",
        "        acuracia_media_treino = acuracia_treino/num_imagens_treino\n",
        "\n",
        "        # Calcular a média de erro e acurácia na validação\n",
        "        erro_medio_validacao = erro_validacao/num_imagens_validacao\n",
        "        acuracia_media_validacao = acuracia_validacao/num_imagens_validacao\n",
        "\n",
        "        # Incluir no histórico os erros e acurácias méidas\n",
        "        historico.append([erro_medio_treino, erro_medio_validacao, acuracia_media_treino, acuracia_media_validacao])\n",
        "                \n",
        "        fim_epoca = time.time()\n",
        "    \n",
        "        print(\"Época : {:03d}, Treino: Erro: {:.4f}, Acurácia: {:.4f}%, \\n\\t\\tValidação : Erro : {:.4f}, Acurácia: {:.4f}%, Tempo: {:.4f}s\".format(epoca+1, erro_medio_treino, acuracia_media_treino*100, erro_medio_validacao, acuracia_media_validacao*100, fim_epoca-inicio_epoca))\n",
        "        \n",
        "        # Testa se a acurácia na validação desse modelo nessa época é a melhor\n",
        "        # Se for a melhor, salva no melhor modelo e na melhor acurácia\n",
        "        if acuracia_media_validacao > melhor_acuracia:\n",
        "            melhor_acuracia = acuracia_media_validacao\n",
        "            torch.save(modelo, '/content/drive/MyDrive/PLIPS/modelos/melhor_modelo.pt')\n",
        "            melhor_modelo = modelo\n",
        "            \n",
        "    return melhor_modelo, historico"
      ]
    },
    {
      "cell_type": "code",
      "execution_count": null,
      "id": "93f7222a",
      "metadata": {
        "scrolled": true,
        "id": "93f7222a",
        "outputId": "49dc5087-466e-4e94-c095-4cd0eeaad10f",
        "colab": {
          "base_uri": "https://localhost:8080/"
        }
      },
      "outputs": [
        {
          "output_type": "stream",
          "name": "stdout",
          "text": [
            "cpu\n",
            "\n",
            "\n",
            "\n",
            "Época: 1/20\n",
            "Treino - Lote número 000, Erro: 0.0008, Acurácia: 1.0000\n",
            "Treino - Lote número 001, Erro: 0.0003, Acurácia: 1.0000\n",
            "Treino - Lote número 002, Erro: 0.0007, Acurácia: 1.0000\n",
            "Treino - Lote número 003, Erro: 0.0009, Acurácia: 1.0000\n",
            "Treino - Lote número 004, Erro: 0.0067, Acurácia: 1.0000\n",
            "Treino - Lote número 005, Erro: 0.0082, Acurácia: 1.0000\n",
            "Treino - Lote número 006, Erro: 0.0102, Acurácia: 1.0000\n",
            "Treino - Lote número 007, Erro: 0.0005, Acurácia: 1.0000\n",
            "Treino - Lote número 008, Erro: 0.0147, Acurácia: 1.0000\n",
            "Treino - Lote número 009, Erro: 0.0020, Acurácia: 1.0000\n",
            "Treino - Lote número 010, Erro: 0.0001, Acurácia: 1.0000\n",
            "Validação - Lote número: 000, Erro: 0.2379, Acurácia: 0.8750\n",
            "Validação - Lote número: 001, Erro: 0.0173, Acurácia: 1.0000\n",
            "Época : 001, Treino: Erro: 0.0042, Acurácia: 100.0000%, \n",
            "\t\tValidação : Erro : 0.1349, Acurácia: 93.3333%, Tempo: 1.9563s\n",
            "\n",
            "\n",
            "Época: 2/20\n",
            "Treino - Lote número 000, Erro: 0.0002, Acurácia: 1.0000\n",
            "Treino - Lote número 001, Erro: 0.0018, Acurácia: 1.0000\n",
            "Treino - Lote número 002, Erro: 0.0305, Acurácia: 1.0000\n",
            "Treino - Lote número 003, Erro: 0.0006, Acurácia: 1.0000\n",
            "Treino - Lote número 004, Erro: 0.0093, Acurácia: 1.0000\n",
            "Treino - Lote número 005, Erro: 0.0013, Acurácia: 1.0000\n",
            "Treino - Lote número 006, Erro: 0.0007, Acurácia: 1.0000\n",
            "Treino - Lote número 007, Erro: 0.0006, Acurácia: 1.0000\n",
            "Treino - Lote número 008, Erro: 0.0003, Acurácia: 1.0000\n",
            "Treino - Lote número 009, Erro: 0.0008, Acurácia: 1.0000\n",
            "Treino - Lote número 010, Erro: 0.0004, Acurácia: 1.0000\n",
            "Validação - Lote número: 000, Erro: 0.0045, Acurácia: 1.0000\n",
            "Validação - Lote número: 001, Erro: 0.1382, Acurácia: 0.8571\n",
            "Época : 002, Treino: Erro: 0.0043, Acurácia: 100.0000%, \n",
            "\t\tValidação : Erro : 0.0669, Acurácia: 93.3333%, Tempo: 1.8829s\n",
            "\n",
            "\n",
            "Época: 3/20\n",
            "Treino - Lote número 000, Erro: 0.0001, Acurácia: 1.0000\n",
            "Treino - Lote número 001, Erro: 0.0006, Acurácia: 1.0000\n",
            "Treino - Lote número 002, Erro: 0.0003, Acurácia: 1.0000\n",
            "Treino - Lote número 003, Erro: 0.0004, Acurácia: 1.0000\n",
            "Treino - Lote número 004, Erro: 0.0069, Acurácia: 1.0000\n",
            "Treino - Lote número 005, Erro: 0.0063, Acurácia: 1.0000\n",
            "Treino - Lote número 006, Erro: 0.0000, Acurácia: 1.0000\n",
            "Treino - Lote número 007, Erro: 0.0004, Acurácia: 1.0000\n",
            "Treino - Lote número 008, Erro: 0.0002, Acurácia: 1.0000\n",
            "Treino - Lote número 009, Erro: 0.0031, Acurácia: 1.0000\n",
            "Treino - Lote número 010, Erro: 0.0004, Acurácia: 1.0000\n",
            "Validação - Lote número: 000, Erro: 0.0004, Acurácia: 1.0000\n",
            "Validação - Lote número: 001, Erro: 0.1094, Acurácia: 0.8571\n",
            "Época : 003, Treino: Erro: 0.0018, Acurácia: 100.0000%, \n",
            "\t\tValidação : Erro : 0.0512, Acurácia: 93.3333%, Tempo: 1.6357s\n",
            "\n",
            "\n",
            "Época: 4/20\n",
            "Treino - Lote número 000, Erro: 0.0082, Acurácia: 1.0000\n",
            "Treino - Lote número 001, Erro: 0.0041, Acurácia: 1.0000\n",
            "Treino - Lote número 002, Erro: 0.0027, Acurácia: 1.0000\n",
            "Treino - Lote número 003, Erro: 0.0015, Acurácia: 1.0000\n",
            "Treino - Lote número 004, Erro: 0.0004, Acurácia: 1.0000\n",
            "Treino - Lote número 005, Erro: 0.0004, Acurácia: 1.0000\n",
            "Treino - Lote número 006, Erro: 0.0008, Acurácia: 1.0000\n",
            "Treino - Lote número 007, Erro: 0.0004, Acurácia: 1.0000\n",
            "Treino - Lote número 008, Erro: 0.0218, Acurácia: 1.0000\n",
            "Treino - Lote número 009, Erro: 0.0016, Acurácia: 1.0000\n",
            "Treino - Lote número 010, Erro: 0.0001, Acurácia: 1.0000\n",
            "Validação - Lote número: 000, Erro: 0.1398, Acurácia: 0.8750\n",
            "Validação - Lote número: 001, Erro: 0.0085, Acurácia: 1.0000\n",
            "Época : 004, Treino: Erro: 0.0039, Acurácia: 100.0000%, \n",
            "\t\tValidação : Erro : 0.0785, Acurácia: 93.3333%, Tempo: 1.6040s\n",
            "\n",
            "\n",
            "Época: 5/20\n",
            "Treino - Lote número 000, Erro: 0.0065, Acurácia: 1.0000\n",
            "Treino - Lote número 001, Erro: 0.0011, Acurácia: 1.0000\n",
            "Treino - Lote número 002, Erro: 0.0012, Acurácia: 1.0000\n",
            "Treino - Lote número 003, Erro: 0.0012, Acurácia: 1.0000\n",
            "Treino - Lote número 004, Erro: 0.0003, Acurácia: 1.0000\n",
            "Treino - Lote número 005, Erro: 0.0001, Acurácia: 1.0000\n",
            "Treino - Lote número 006, Erro: 0.0015, Acurácia: 1.0000\n",
            "Treino - Lote número 007, Erro: 0.0006, Acurácia: 1.0000\n",
            "Treino - Lote número 008, Erro: 0.0005, Acurácia: 1.0000\n",
            "Treino - Lote número 009, Erro: 0.0020, Acurácia: 1.0000\n",
            "Treino - Lote número 010, Erro: 0.0032, Acurácia: 1.0000\n",
            "Validação - Lote número: 000, Erro: 0.2162, Acurácia: 0.8750\n",
            "Validação - Lote número: 001, Erro: 0.0240, Acurácia: 1.0000\n",
            "Época : 005, Treino: Erro: 0.0016, Acurácia: 100.0000%, \n",
            "\t\tValidação : Erro : 0.1265, Acurácia: 93.3333%, Tempo: 1.5856s\n",
            "\n",
            "\n",
            "Época: 6/20\n",
            "Treino - Lote número 000, Erro: 0.0029, Acurácia: 1.0000\n",
            "Treino - Lote número 001, Erro: 0.0003, Acurácia: 1.0000\n",
            "Treino - Lote número 002, Erro: 0.0112, Acurácia: 1.0000\n",
            "Treino - Lote número 003, Erro: 0.0011, Acurácia: 1.0000\n",
            "Treino - Lote número 004, Erro: 0.0002, Acurácia: 1.0000\n",
            "Treino - Lote número 005, Erro: 0.0018, Acurácia: 1.0000\n",
            "Treino - Lote número 006, Erro: 0.0180, Acurácia: 1.0000\n",
            "Treino - Lote número 007, Erro: 0.0028, Acurácia: 1.0000\n",
            "Treino - Lote número 008, Erro: 0.0023, Acurácia: 1.0000\n",
            "Treino - Lote número 009, Erro: 0.0001, Acurácia: 1.0000\n",
            "Treino - Lote número 010, Erro: 0.0016, Acurácia: 1.0000\n",
            "Validação - Lote número: 000, Erro: 0.0173, Acurácia: 1.0000\n",
            "Validação - Lote número: 001, Erro: 0.2484, Acurácia: 0.8571\n",
            "Época : 006, Treino: Erro: 0.0039, Acurácia: 100.0000%, \n",
            "\t\tValidação : Erro : 0.1251, Acurácia: 93.3333%, Tempo: 1.5997s\n",
            "\n",
            "\n",
            "Época: 7/20\n",
            "Treino - Lote número 000, Erro: 0.0004, Acurácia: 1.0000\n",
            "Treino - Lote número 001, Erro: 0.0003, Acurácia: 1.0000\n",
            "Treino - Lote número 002, Erro: 0.0011, Acurácia: 1.0000\n",
            "Treino - Lote número 003, Erro: 0.0032, Acurácia: 1.0000\n",
            "Treino - Lote número 004, Erro: 0.0001, Acurácia: 1.0000\n",
            "Treino - Lote número 005, Erro: 0.0018, Acurácia: 1.0000\n",
            "Treino - Lote número 006, Erro: 0.0005, Acurácia: 1.0000\n",
            "Treino - Lote número 007, Erro: 0.0001, Acurácia: 1.0000\n",
            "Treino - Lote número 008, Erro: 0.0003, Acurácia: 1.0000\n",
            "Treino - Lote número 009, Erro: 0.0035, Acurácia: 1.0000\n",
            "Treino - Lote número 010, Erro: 0.0068, Acurácia: 1.0000\n",
            "Validação - Lote número: 000, Erro: 0.0010, Acurácia: 1.0000\n",
            "Validação - Lote número: 001, Erro: 0.2315, Acurácia: 0.8571\n",
            "Época : 007, Treino: Erro: 0.0015, Acurácia: 100.0000%, \n",
            "\t\tValidação : Erro : 0.1085, Acurácia: 93.3333%, Tempo: 1.8330s\n",
            "\n",
            "\n",
            "Época: 8/20\n",
            "Treino - Lote número 000, Erro: 0.0001, Acurácia: 1.0000\n",
            "Treino - Lote número 001, Erro: 0.0045, Acurácia: 1.0000\n",
            "Treino - Lote número 002, Erro: 0.0003, Acurácia: 1.0000\n",
            "Treino - Lote número 003, Erro: 0.0040, Acurácia: 1.0000\n",
            "Treino - Lote número 004, Erro: 0.0002, Acurácia: 1.0000\n",
            "Treino - Lote número 005, Erro: 0.0034, Acurácia: 1.0000\n",
            "Treino - Lote número 006, Erro: 0.0004, Acurácia: 1.0000\n",
            "Treino - Lote número 007, Erro: 0.0001, Acurácia: 1.0000\n",
            "Treino - Lote número 008, Erro: 0.0058, Acurácia: 1.0000\n",
            "Treino - Lote número 009, Erro: 0.0019, Acurácia: 1.0000\n",
            "Treino - Lote número 010, Erro: 0.0007, Acurácia: 1.0000\n",
            "Validação - Lote número: 000, Erro: 0.1542, Acurácia: 0.8750\n",
            "Validação - Lote número: 001, Erro: 0.0007, Acurácia: 1.0000\n",
            "Época : 008, Treino: Erro: 0.0020, Acurácia: 100.0000%, \n",
            "\t\tValidação : Erro : 0.0825, Acurácia: 93.3333%, Tempo: 2.4715s\n",
            "\n",
            "\n",
            "Época: 9/20\n",
            "Treino - Lote número 000, Erro: 0.0001, Acurácia: 1.0000\n",
            "Treino - Lote número 001, Erro: 0.0004, Acurácia: 1.0000\n",
            "Treino - Lote número 002, Erro: 0.0004, Acurácia: 1.0000\n",
            "Treino - Lote número 003, Erro: 0.0004, Acurácia: 1.0000\n",
            "Treino - Lote número 004, Erro: 0.0016, Acurácia: 1.0000\n",
            "Treino - Lote número 005, Erro: 0.0063, Acurácia: 1.0000\n",
            "Treino - Lote número 006, Erro: 0.0018, Acurácia: 1.0000\n",
            "Treino - Lote número 007, Erro: 0.0001, Acurácia: 1.0000\n",
            "Treino - Lote número 008, Erro: 0.0002, Acurácia: 1.0000\n",
            "Treino - Lote número 009, Erro: 0.0011, Acurácia: 1.0000\n",
            "Treino - Lote número 010, Erro: 0.0003, Acurácia: 1.0000\n",
            "Validação - Lote número: 000, Erro: 0.0008, Acurácia: 1.0000\n",
            "Validação - Lote número: 001, Erro: 0.1822, Acurácia: 0.8571\n",
            "Época : 009, Treino: Erro: 0.0012, Acurácia: 100.0000%, \n",
            "\t\tValidação : Erro : 0.0854, Acurácia: 93.3333%, Tempo: 1.8928s\n",
            "\n",
            "\n",
            "Época: 10/20\n",
            "Treino - Lote número 000, Erro: 0.0018, Acurácia: 1.0000\n",
            "Treino - Lote número 001, Erro: 0.0003, Acurácia: 1.0000\n",
            "Treino - Lote número 002, Erro: 0.0015, Acurácia: 1.0000\n",
            "Treino - Lote número 003, Erro: 0.0000, Acurácia: 1.0000\n",
            "Treino - Lote número 004, Erro: 0.0007, Acurácia: 1.0000\n",
            "Treino - Lote número 005, Erro: 0.0005, Acurácia: 1.0000\n",
            "Treino - Lote número 006, Erro: 0.0004, Acurácia: 1.0000\n",
            "Treino - Lote número 007, Erro: 0.0113, Acurácia: 1.0000\n",
            "Treino - Lote número 008, Erro: 0.0013, Acurácia: 1.0000\n",
            "Treino - Lote número 009, Erro: 0.0002, Acurácia: 1.0000\n",
            "Treino - Lote número 010, Erro: 0.0000, Acurácia: 1.0000\n",
            "Validação - Lote número: 000, Erro: 0.0005, Acurácia: 1.0000\n",
            "Validação - Lote número: 001, Erro: 0.2121, Acurácia: 0.8571\n",
            "Época : 010, Treino: Erro: 0.0017, Acurácia: 100.0000%, \n",
            "\t\tValidação : Erro : 0.0993, Acurácia: 93.3333%, Tempo: 1.5542s\n",
            "\n",
            "\n",
            "Época: 11/20\n",
            "Treino - Lote número 000, Erro: 0.0000, Acurácia: 1.0000\n",
            "Treino - Lote número 001, Erro: 0.0002, Acurácia: 1.0000\n",
            "Treino - Lote número 002, Erro: 0.0003, Acurácia: 1.0000\n",
            "Treino - Lote número 003, Erro: 0.0009, Acurácia: 1.0000\n",
            "Treino - Lote número 004, Erro: 0.0003, Acurácia: 1.0000\n",
            "Treino - Lote número 005, Erro: 0.0001, Acurácia: 1.0000\n",
            "Treino - Lote número 006, Erro: 0.0073, Acurácia: 1.0000\n",
            "Treino - Lote número 007, Erro: 0.0002, Acurácia: 1.0000\n",
            "Treino - Lote número 008, Erro: 0.0015, Acurácia: 1.0000\n",
            "Treino - Lote número 009, Erro: 0.0000, Acurácia: 1.0000\n",
            "Treino - Lote número 010, Erro: 0.0016, Acurácia: 1.0000\n",
            "Validação - Lote número: 000, Erro: 0.2047, Acurácia: 0.8750\n",
            "Validação - Lote número: 001, Erro: 0.0006, Acurácia: 1.0000\n",
            "Época : 011, Treino: Erro: 0.0011, Acurácia: 100.0000%, \n",
            "\t\tValidação : Erro : 0.1095, Acurácia: 93.3333%, Tempo: 1.5599s\n",
            "\n",
            "\n",
            "Época: 12/20\n",
            "Treino - Lote número 000, Erro: 0.0004, Acurácia: 1.0000\n",
            "Treino - Lote número 001, Erro: 0.0000, Acurácia: 1.0000\n",
            "Treino - Lote número 002, Erro: 0.0013, Acurácia: 1.0000\n",
            "Treino - Lote número 003, Erro: 0.0005, Acurácia: 1.0000\n",
            "Treino - Lote número 004, Erro: 0.0010, Acurácia: 1.0000\n",
            "Treino - Lote número 005, Erro: 0.0001, Acurácia: 1.0000\n",
            "Treino - Lote número 006, Erro: 0.0008, Acurácia: 1.0000\n",
            "Treino - Lote número 007, Erro: 0.0007, Acurácia: 1.0000\n",
            "Treino - Lote número 008, Erro: 0.0001, Acurácia: 1.0000\n",
            "Treino - Lote número 009, Erro: 0.0001, Acurácia: 1.0000\n",
            "Treino - Lote número 010, Erro: 0.0000, Acurácia: 1.0000\n",
            "Validação - Lote número: 000, Erro: 0.0114, Acurácia: 1.0000\n",
            "Validação - Lote número: 001, Erro: 0.2128, Acurácia: 0.8571\n",
            "Época : 012, Treino: Erro: 0.0005, Acurácia: 100.0000%, \n",
            "\t\tValidação : Erro : 0.1054, Acurácia: 93.3333%, Tempo: 1.5994s\n",
            "\n",
            "\n",
            "Época: 13/20\n",
            "Treino - Lote número 000, Erro: 0.0012, Acurácia: 1.0000\n",
            "Treino - Lote número 001, Erro: 0.0005, Acurácia: 1.0000\n",
            "Treino - Lote número 002, Erro: 0.0005, Acurácia: 1.0000\n",
            "Treino - Lote número 003, Erro: 0.0003, Acurácia: 1.0000\n",
            "Treino - Lote número 004, Erro: 0.0008, Acurácia: 1.0000\n",
            "Treino - Lote número 005, Erro: 0.0007, Acurácia: 1.0000\n",
            "Treino - Lote número 006, Erro: 0.0010, Acurácia: 1.0000\n",
            "Treino - Lote número 007, Erro: 0.0001, Acurácia: 1.0000\n",
            "Treino - Lote número 008, Erro: 0.0010, Acurácia: 1.0000\n",
            "Treino - Lote número 009, Erro: 0.0001, Acurácia: 1.0000\n",
            "Treino - Lote número 010, Erro: 0.0002, Acurácia: 1.0000\n",
            "Validação - Lote número: 000, Erro: 0.1874, Acurácia: 0.8750\n",
            "Validação - Lote número: 001, Erro: 0.0140, Acurácia: 1.0000\n",
            "Época : 013, Treino: Erro: 0.0006, Acurácia: 100.0000%, \n",
            "\t\tValidação : Erro : 0.1064, Acurácia: 93.3333%, Tempo: 1.5315s\n",
            "\n",
            "\n",
            "Época: 14/20\n",
            "Treino - Lote número 000, Erro: 0.0006, Acurácia: 1.0000\n",
            "Treino - Lote número 001, Erro: 0.0001, Acurácia: 1.0000\n",
            "Treino - Lote número 002, Erro: 0.0021, Acurácia: 1.0000\n",
            "Treino - Lote número 003, Erro: 0.0001, Acurácia: 1.0000\n",
            "Treino - Lote número 004, Erro: 0.0008, Acurácia: 1.0000\n",
            "Treino - Lote número 005, Erro: 0.0005, Acurácia: 1.0000\n",
            "Treino - Lote número 006, Erro: 0.0001, Acurácia: 1.0000\n",
            "Treino - Lote número 007, Erro: 0.0008, Acurácia: 1.0000\n",
            "Treino - Lote número 008, Erro: 0.0003, Acurácia: 1.0000\n",
            "Treino - Lote número 009, Erro: 0.0000, Acurácia: 1.0000\n",
            "Treino - Lote número 010, Erro: 0.0001, Acurácia: 1.0000\n",
            "Validação - Lote número: 000, Erro: 0.1860, Acurácia: 0.8750\n",
            "Validação - Lote número: 001, Erro: 0.0136, Acurácia: 1.0000\n",
            "Época : 014, Treino: Erro: 0.0005, Acurácia: 100.0000%, \n",
            "\t\tValidação : Erro : 0.1056, Acurácia: 93.3333%, Tempo: 1.5746s\n",
            "\n",
            "\n",
            "Época: 15/20\n",
            "Treino - Lote número 000, Erro: 0.0004, Acurácia: 1.0000\n",
            "Treino - Lote número 001, Erro: 0.0016, Acurácia: 1.0000\n",
            "Treino - Lote número 002, Erro: 0.0000, Acurácia: 1.0000\n",
            "Treino - Lote número 003, Erro: 0.0018, Acurácia: 1.0000\n",
            "Treino - Lote número 004, Erro: 0.0001, Acurácia: 1.0000\n",
            "Treino - Lote número 005, Erro: 0.0004, Acurácia: 1.0000\n",
            "Treino - Lote número 006, Erro: 0.0010, Acurácia: 1.0000\n",
            "Treino - Lote número 007, Erro: 0.0007, Acurácia: 1.0000\n",
            "Treino - Lote número 008, Erro: 0.0001, Acurácia: 1.0000\n",
            "Treino - Lote número 009, Erro: 0.0002, Acurácia: 1.0000\n",
            "Treino - Lote número 010, Erro: 0.0008, Acurácia: 1.0000\n",
            "Validação - Lote número: 000, Erro: 0.2139, Acurácia: 0.8750\n",
            "Validação - Lote número: 001, Erro: 0.0011, Acurácia: 1.0000\n",
            "Época : 015, Treino: Erro: 0.0006, Acurácia: 100.0000%, \n",
            "\t\tValidação : Erro : 0.1146, Acurácia: 93.3333%, Tempo: 1.7078s\n",
            "\n",
            "\n",
            "Época: 16/20\n",
            "Treino - Lote número 000, Erro: 0.0003, Acurácia: 1.0000\n",
            "Treino - Lote número 001, Erro: 0.0005, Acurácia: 1.0000\n",
            "Treino - Lote número 002, Erro: 0.0001, Acurácia: 1.0000\n",
            "Treino - Lote número 003, Erro: 0.0095, Acurácia: 1.0000\n",
            "Treino - Lote número 004, Erro: 0.0002, Acurácia: 1.0000\n",
            "Treino - Lote número 005, Erro: 0.0017, Acurácia: 1.0000\n",
            "Treino - Lote número 006, Erro: 0.0010, Acurácia: 1.0000\n",
            "Treino - Lote número 007, Erro: 0.0019, Acurácia: 1.0000\n",
            "Treino - Lote número 008, Erro: 0.0002, Acurácia: 1.0000\n",
            "Treino - Lote número 009, Erro: 0.0001, Acurácia: 1.0000\n",
            "Treino - Lote número 010, Erro: 0.0013, Acurácia: 1.0000\n",
            "Validação - Lote número: 000, Erro: 0.1806, Acurácia: 0.8750\n",
            "Validação - Lote número: 001, Erro: 0.0147, Acurácia: 1.0000\n",
            "Época : 016, Treino: Erro: 0.0015, Acurácia: 100.0000%, \n",
            "\t\tValidação : Erro : 0.1031, Acurácia: 93.3333%, Tempo: 2.2399s\n",
            "\n",
            "\n",
            "Época: 17/20\n",
            "Treino - Lote número 000, Erro: 0.0025, Acurácia: 1.0000\n",
            "Treino - Lote número 001, Erro: 0.0002, Acurácia: 1.0000\n",
            "Treino - Lote número 002, Erro: 0.0008, Acurácia: 1.0000\n",
            "Treino - Lote número 003, Erro: 0.0024, Acurácia: 1.0000\n",
            "Treino - Lote número 004, Erro: 0.0003, Acurácia: 1.0000\n",
            "Treino - Lote número 005, Erro: 0.0002, Acurácia: 1.0000\n",
            "Treino - Lote número 006, Erro: 0.0002, Acurácia: 1.0000\n",
            "Treino - Lote número 007, Erro: 0.0002, Acurácia: 1.0000\n",
            "Treino - Lote número 008, Erro: 0.0001, Acurácia: 1.0000\n",
            "Treino - Lote número 009, Erro: 0.0001, Acurácia: 1.0000\n",
            "Treino - Lote número 010, Erro: 0.0003, Acurácia: 1.0000\n",
            "Validação - Lote número: 000, Erro: 0.1664, Acurácia: 0.8750\n",
            "Validação - Lote número: 001, Erro: 0.0148, Acurácia: 1.0000\n",
            "Época : 017, Treino: Erro: 0.0007, Acurácia: 100.0000%, \n",
            "\t\tValidação : Erro : 0.0957, Acurácia: 93.3333%, Tempo: 1.6359s\n",
            "\n",
            "\n",
            "Época: 18/20\n",
            "Treino - Lote número 000, Erro: 0.0001, Acurácia: 1.0000\n",
            "Treino - Lote número 001, Erro: 0.0112, Acurácia: 1.0000\n",
            "Treino - Lote número 002, Erro: 0.0019, Acurácia: 1.0000\n",
            "Treino - Lote número 003, Erro: 0.0005, Acurácia: 1.0000\n",
            "Treino - Lote número 004, Erro: 0.0001, Acurácia: 1.0000\n",
            "Treino - Lote número 005, Erro: 0.0001, Acurácia: 1.0000\n",
            "Treino - Lote número 006, Erro: 0.0002, Acurácia: 1.0000\n",
            "Treino - Lote número 007, Erro: 0.0004, Acurácia: 1.0000\n",
            "Treino - Lote número 008, Erro: 0.0002, Acurácia: 1.0000\n",
            "Treino - Lote número 009, Erro: 0.0006, Acurácia: 1.0000\n",
            "Treino - Lote número 010, Erro: 0.0002, Acurácia: 1.0000\n",
            "Validação - Lote número: 000, Erro: 0.2389, Acurácia: 0.8750\n",
            "Validação - Lote número: 001, Erro: 0.0005, Acurácia: 1.0000\n",
            "Época : 018, Treino: Erro: 0.0014, Acurácia: 100.0000%, \n",
            "\t\tValidação : Erro : 0.1277, Acurácia: 93.3333%, Tempo: 1.7220s\n",
            "\n",
            "\n",
            "Época: 19/20\n",
            "Treino - Lote número 000, Erro: 0.0011, Acurácia: 1.0000\n",
            "Treino - Lote número 001, Erro: 0.0001, Acurácia: 1.0000\n",
            "Treino - Lote número 002, Erro: 0.0002, Acurácia: 1.0000\n",
            "Treino - Lote número 003, Erro: 0.0008, Acurácia: 1.0000\n",
            "Treino - Lote número 004, Erro: 0.0000, Acurácia: 1.0000\n",
            "Treino - Lote número 005, Erro: 0.0002, Acurácia: 1.0000\n",
            "Treino - Lote número 006, Erro: 0.0009, Acurácia: 1.0000\n",
            "Treino - Lote número 007, Erro: 0.0005, Acurácia: 1.0000\n",
            "Treino - Lote número 008, Erro: 0.0007, Acurácia: 1.0000\n",
            "Treino - Lote número 009, Erro: 0.0001, Acurácia: 1.0000\n",
            "Treino - Lote número 010, Erro: 0.0003, Acurácia: 1.0000\n",
            "Validação - Lote número: 000, Erro: 0.2619, Acurácia: 0.8750\n",
            "Validação - Lote número: 001, Erro: 0.0000, Acurácia: 1.0000\n",
            "Época : 019, Treino: Erro: 0.0004, Acurácia: 100.0000%, \n",
            "\t\tValidação : Erro : 0.1397, Acurácia: 93.3333%, Tempo: 2.2779s\n",
            "\n",
            "\n",
            "Época: 20/20\n",
            "Treino - Lote número 000, Erro: 0.0042, Acurácia: 1.0000\n",
            "Treino - Lote número 001, Erro: 0.0002, Acurácia: 1.0000\n",
            "Treino - Lote número 002, Erro: 0.0003, Acurácia: 1.0000\n",
            "Treino - Lote número 003, Erro: 0.0000, Acurácia: 1.0000\n",
            "Treino - Lote número 004, Erro: 0.0010, Acurácia: 1.0000\n",
            "Treino - Lote número 005, Erro: 0.0005, Acurácia: 1.0000\n",
            "Treino - Lote número 006, Erro: 0.0002, Acurácia: 1.0000\n",
            "Treino - Lote número 007, Erro: 0.0020, Acurácia: 1.0000\n",
            "Treino - Lote número 008, Erro: 0.0012, Acurácia: 1.0000\n",
            "Treino - Lote número 009, Erro: 0.0009, Acurácia: 1.0000\n",
            "Treino - Lote número 010, Erro: 0.0004, Acurácia: 1.0000\n",
            "Validação - Lote número: 000, Erro: 0.0248, Acurácia: 1.0000\n",
            "Validação - Lote número: 001, Erro: 0.2246, Acurácia: 0.8571\n",
            "Época : 020, Treino: Erro: 0.0010, Acurácia: 100.0000%, \n",
            "\t\tValidação : Erro : 0.1180, Acurácia: 93.3333%, Tempo: 1.5696s\n"
          ]
        }
      ],
      "source": [
        "# Se você for rico e tiver uma RTX 3080 (que sonho!!)\n",
        "# Mas se não for, sem problemas, sua CPU provavelmente vai dar conta do recado!\n",
        "device = torch.device(\"cuda:0\" if torch.cuda.is_available() else \"cpu\")\n",
        "\n",
        "# Imprime se vai ser CPU ou alguma GPU\n",
        "print(f'{device}\\n')\n",
        "\n",
        "# Define o número de épocas\n",
        "numero_de_epocas = 20\n",
        "\n",
        "# treina o modelo! Finalmente!!\n",
        "modelo_treinado, historico = treinar_e_validar(alexnet, funcao_erro, otimizador, numero_de_epocas)"
      ]
    },
    {
      "cell_type": "code",
      "execution_count": null,
      "id": "ecb42233",
      "metadata": {
        "id": "ecb42233",
        "outputId": "027b391c-236f-457b-8957-e69e77034451",
        "colab": {
          "base_uri": "https://localhost:8080/",
          "height": 285
        }
      },
      "outputs": [
        {
          "output_type": "display_data",
          "data": {
            "text/plain": [
              "<Figure size 432x288 with 1 Axes>"
            ],
            "image/png": "[encoded data removed]"
          },
          "metadata": {
            "needs_background": "light"
          }
        }
      ],
      "source": [
        "# Mostra o erro de treino e validação a cada época treinada\n",
        "\n",
        "historico = np.array(historico)\n",
        "\n",
        "plt.plot(historico[:,0:2])\n",
        "plt.legend(['Erro Treino', 'Erro Validação'])\n",
        "plt.xlabel('Época')\n",
        "plt.ylabel('Erro')\n",
        "plt.ylim(0,1)\n",
        "plt.show()"
      ]
    },
    {
      "cell_type": "code",
      "execution_count": null,
      "id": "2cfddfa1",
      "metadata": {
        "id": "2cfddfa1"
      },
      "outputs": [],
      "source": [
        "def predicao_tim_maia(modelo, arquivo_imagem_teste):\n",
        "    '''\n",
        "    Função para realizar a predição do status do AR\n",
        "    Parâmetros\n",
        "        :param modelo: modelo para testar\n",
        "        :param arquivo_imagem_teste: caminho para imagem de teste\n",
        "    '''\n",
        "    \n",
        "    transformacao = transformacoes_de_imagens['teste']\n",
        "\n",
        "    imagem_teste = PIL.Image.open(arquivo_imagem_teste)\n",
        "    plt.imshow(imagem_teste)\n",
        "    \n",
        "    tensor_imagem_teste = transformacao(imagem_teste)\n",
        "\n",
        "    # Testa se voce é rico, ops, se tem uma placa NVIDIA :)\n",
        "    if torch.cuda.is_available():\n",
        "        tensor_imagem_teste = tensor_imagem_teste.view(1, 3, image_size, image_size).cuda()\n",
        "    else:\n",
        "        tensor_imagem_teste = tensor_imagem_teste.view(1, 3, image_size, image_size)\n",
        "    \n",
        "    dict_predicoes = dict()\n",
        "    \n",
        "    # Não precisa atualizar os coeficientes do modelo\n",
        "    with torch.no_grad():\n",
        "        modelo.eval()\n",
        "        # Modelo retorna as probabilidades em log (log softmax)\n",
        "        saida = modelo(tensor_imagem_teste)\n",
        "        \n",
        "        # torch.exp para voltar a probabilidade de log para a probabilidade linear\n",
        "        ps = torch.exp(saida)\n",
        "        \n",
        "        # topk retorna o os k maiores valores do tensor\n",
        "        # o tensor de probabilidades vai trazer na 1a posição a classe com maior\n",
        "        # probabilidade de predição\n",
        "        topk, topclass = ps.topk(numero_de_classes, dim=1)\n",
        "        for i in range(numero_de_classes):\n",
        "            dict_predicoes[indice_para_classe[topclass.cpu().numpy()[0][i]]] = topk.cpu().numpy()[0][i]\n",
        "    \n",
        "    return dict_predicoes"
      ]
    },
    {
      "cell_type": "code",
      "execution_count": null,
      "id": "8143c572",
      "metadata": {
        "id": "8143c572",
        "outputId": "da1f7d04-e784-4fbc-f8b2-868da1fa45dd",
        "colab": {
          "base_uri": "https://localhost:8080/",
          "height": 287
        }
      },
      "outputs": [
        {
          "output_type": "execute_result",
          "data": {
            "text/plain": [
              "{'chocolate': 0.9999957, 'guarana': 4.2473107e-06, 'cocacola': 2.1227804e-09}"
            ]
          },
          "metadata": {},
          "execution_count": 88
        },
        {
          "output_type": "display_data",
          "data": {
            "text/plain": [
              "<Figure size 432x288 with 1 Axes>"
            ],
            "image/png": "[encoded data removed]"
          },
          "metadata": {
            "needs_background": "light"
          }
        }
      ],
      "source": [
        "classe = 'chocolate'\n",
        "pasta = f'/content/drive/MyDrive/PLIPS/data/teste/{classe}/'\n",
        "imagem = os.path.join(pasta, os.listdir(pasta)[1])\n",
        "\n",
        "predicao_tim_maia(modelo_treinado, imagem)"
      ]
    },
    {
      "cell_type": "code",
      "execution_count": null,
      "id": "903155fe",
      "metadata": {
        "id": "903155fe"
      },
      "outputs": [],
      "source": [
        "torch.save(modelo_treinado, './modelos/melhor_modelo.pt')"
      ]
    },
    {
      "cell_type": "code",
      "execution_count": null,
      "id": "58c12c7d",
      "metadata": {
        "id": "58c12c7d",
        "colab": {
          "base_uri": "https://localhost:8080/"
        },
        "outputId": "72e006dd-3ec4-47a3-d3db-210b9c4e3113"
      },
      "outputs": [
        {
          "output_type": "stream",
          "name": "stdout",
          "text": [
            "/bin/bash: ls/content/drive/My Drive/PLIPS/data/teste: No such file or directory\n"
          ]
        }
      ],
      "source": [
        "!ls'/content/drive/My Drive/PLIPS/data/teste'"
      ]
    }
  ],
  "metadata": {
    "kernelspec": {
      "display_name": "Python 3 (ipykernel)",
      "language": "python",
      "name": "python3"
    },
    "language_info": {
      "codemirror_mode": {
        "name": "ipython",
        "version": 3
      },
      "file_extension": ".py",
      "mimetype": "text/x-python",
      "name": "python",
      "nbconvert_exporter": "python",
      "pygments_lexer": "ipython3",
      "version": "3.7.8"
    },
    "colab": {
      "provenance": [],
      "include_colab_link": true
    },
    "widgets": {
      "application/vnd.jupyter.widget-state+json": {
        "44a4060afcd44937a69476cfaae5dd79": {
          "model_module": "@jupyter-widgets/controls",
          "model_name": "HBoxModel",
          "model_module_version": "1.5.0",
          "state": {
            "_dom_classes": [],
            "_model_module": "@jupyter-widgets/controls",
            "_model_module_version": "1.5.0",
            "_model_name": "HBoxModel",
            "_view_count": null,
            "_view_module": "@jupyter-widgets/controls",
            "_view_module_version": "1.5.0",
            "_view_name": "HBoxView",
            "box_style": "",
            "children": [
              "IPY_MODEL_93c1090f6f124d109e8e9e81940f8d5d",
              "IPY_MODEL_5d0147e1ec46451a9771470d1dbfab38",
              "IPY_MODEL_ed5f8fbb130b4199af2ac971f8aa8438"
            ],
            "layout": "IPY_MODEL_ebfe092a2ede4c729861d7c0ae112161"
          }
        },
        "93c1090f6f124d109e8e9e81940f8d5d": {
          "model_module": "@jupyter-widgets/controls",
          "model_name": "HTMLModel",
          "model_module_version": "1.5.0",
          "state": {
            "_dom_classes": [],
            "_model_module": "@jupyter-widgets/controls",
            "_model_module_version": "1.5.0",
            "_model_name": "HTMLModel",
            "_view_count": null,
            "_view_module": "@jupyter-widgets/controls",
            "_view_module_version": "1.5.0",
            "_view_name": "HTMLView",
            "description": "",
            "description_tooltip": null,
            "layout": "IPY_MODEL_143b7c09a0af49fca0919ad56d2c14ec",
            "placeholder": "​",
            "style": "IPY_MODEL_2f700cfb9d0b49d88930d7b3136e13f8",
            "value": "100%"
          }
        },
        "5d0147e1ec46451a9771470d1dbfab38": {
          "model_module": "@jupyter-widgets/controls",
          "model_name": "FloatProgressModel",
          "model_module_version": "1.5.0",
          "state": {
            "_dom_classes": [],
            "_model_module": "@jupyter-widgets/controls",
            "_model_module_version": "1.5.0",
            "_model_name": "FloatProgressModel",
            "_view_count": null,
            "_view_module": "@jupyter-widgets/controls",
            "_view_module_version": "1.5.0",
            "_view_name": "ProgressView",
            "bar_style": "success",
            "description": "",
            "description_tooltip": null,
            "layout": "IPY_MODEL_6b1f9369e3934a3f87ca9b1cd0e4fc8f",
            "max": 244408911,
            "min": 0,
            "orientation": "horizontal",
            "style": "IPY_MODEL_5ebd1af2abbd4035b7787f9137e927af",
            "value": 244408911
          }
        },
        "ed5f8fbb130b4199af2ac971f8aa8438": {
          "model_module": "@jupyter-widgets/controls",
          "model_name": "HTMLModel",
          "model_module_version": "1.5.0",
          "state": {
            "_dom_classes": [],
            "_model_module": "@jupyter-widgets/controls",
            "_model_module_version": "1.5.0",
            "_model_name": "HTMLModel",
            "_view_count": null,
            "_view_module": "@jupyter-widgets/controls",
            "_view_module_version": "1.5.0",
            "_view_name": "HTMLView",
            "description": "",
            "description_tooltip": null,
            "layout": "IPY_MODEL_663a5bab8d6a45f0bbe60bd556bc3d0d",
            "placeholder": "​",
            "style": "IPY_MODEL_b5486f60a2864393b24e5a795dc21528",
            "value": " 233M/233M [00:02&lt;00:00, 94.1MB/s]"
          }
        },
        "ebfe092a2ede4c729861d7c0ae112161": {
          "model_module": "@jupyter-widgets/base",
          "model_name": "LayoutModel",
          "model_module_version": "1.2.0",
          "state": {
            "_model_module": "@jupyter-widgets/base",
            "_model_module_version": "1.2.0",
            "_model_name": "LayoutModel",
            "_view_count": null,
            "_view_module": "@jupyter-widgets/base",
            "_view_module_version": "1.2.0",
            "_view_name": "LayoutView",
            "align_content": null,
            "align_items": null,
            "align_self": null,
            "border": null,
            "bottom": null,
            "display": null,
            "flex": null,
            "flex_flow": null,
            "grid_area": null,
            "grid_auto_columns": null,
            "grid_auto_flow": null,
            "grid_auto_rows": null,
            "grid_column": null,
            "grid_gap": null,
            "grid_row": null,
            "grid_template_areas": null,
            "grid_template_columns": null,
            "grid_template_rows": null,
            "height": null,
            "justify_content": null,
            "justify_items": null,
            "left": null,
            "margin": null,
            "max_height": null,
            "max_width": null,
            "min_height": null,
            "min_width": null,
            "object_fit": null,
            "object_position": null,
            "order": null,
            "overflow": null,
            "overflow_x": null,
            "overflow_y": null,
            "padding": null,
            "right": null,
            "top": null,
            "visibility": null,
            "width": null
          }
        },
        "143b7c09a0af49fca0919ad56d2c14ec": {
          "model_module": "@jupyter-widgets/base",
          "model_name": "LayoutModel",
          "model_module_version": "1.2.0",
          "state": {
            "_model_module": "@jupyter-widgets/base",
            "_model_module_version": "1.2.0",
            "_model_name": "LayoutModel",
            "_view_count": null,
            "_view_module": "@jupyter-widgets/base",
            "_view_module_version": "1.2.0",
            "_view_name": "LayoutView",
            "align_content": null,
            "align_items": null,
            "align_self": null,
            "border": null,
            "bottom": null,
            "display": null,
            "flex": null,
            "flex_flow": null,
            "grid_area": null,
            "grid_auto_columns": null,
            "grid_auto_flow": null,
            "grid_auto_rows": null,
            "grid_column": null,
            "grid_gap": null,
            "grid_row": null,
            "grid_template_areas": null,
            "grid_template_columns": null,
            "grid_template_rows": null,
            "height": null,
            "justify_content": null,
            "justify_items": null,
            "left": null,
            "margin": null,
            "max_height": null,
            "max_width": null,
            "min_height": null,
            "min_width": null,
            "object_fit": null,
            "object_position": null,
            "order": null,
            "overflow": null,
            "overflow_x": null,
            "overflow_y": null,
            "padding": null,
            "right": null,
            "top": null,
            "visibility": null,
            "width": null
          }
        },
        "2f700cfb9d0b49d88930d7b3136e13f8": {
          "model_module": "@jupyter-widgets/controls",
          "model_name": "DescriptionStyleModel",
          "model_module_version": "1.5.0",
          "state": {
            "_model_module": "@jupyter-widgets/controls",
            "_model_module_version": "1.5.0",
            "_model_name": "DescriptionStyleModel",
            "_view_count": null,
            "_view_module": "@jupyter-widgets/base",
            "_view_module_version": "1.2.0",
            "_view_name": "StyleView",
            "description_width": ""
          }
        },
        "6b1f9369e3934a3f87ca9b1cd0e4fc8f": {
          "model_module": "@jupyter-widgets/base",
          "model_name": "LayoutModel",
          "model_module_version": "1.2.0",
          "state": {
            "_model_module": "@jupyter-widgets/base",
            "_model_module_version": "1.2.0",
            "_model_name": "LayoutModel",
            "_view_count": null,
            "_view_module": "@jupyter-widgets/base",
            "_view_module_version": "1.2.0",
            "_view_name": "LayoutView",
            "align_content": null,
            "align_items": null,
            "align_self": null,
            "border": null,
            "bottom": null,
            "display": null,
            "flex": null,
            "flex_flow": null,
            "grid_area": null,
            "grid_auto_columns": null,
            "grid_auto_flow": null,
            "grid_auto_rows": null,
            "grid_column": null,
            "grid_gap": null,
            "grid_row": null,
            "grid_template_areas": null,
            "grid_template_columns": null,
            "grid_template_rows": null,
            "height": null,
            "justify_content": null,
            "justify_items": null,
            "left": null,
            "margin": null,
            "max_height": null,
            "max_width": null,
            "min_height": null,
            "min_width": null,
            "object_fit": null,
            "object_position": null,
            "order": null,
            "overflow": null,
            "overflow_x": null,
            "overflow_y": null,
            "padding": null,
            "right": null,
            "top": null,
            "visibility": null,
            "width": null
          }
        },
        "5ebd1af2abbd4035b7787f9137e927af": {
          "model_module": "@jupyter-widgets/controls",
          "model_name": "ProgressStyleModel",
          "model_module_version": "1.5.0",
          "state": {
            "_model_module": "@jupyter-widgets/controls",
            "_model_module_version": "1.5.0",
            "_model_name": "ProgressStyleModel",
            "_view_count": null,
            "_view_module": "@jupyter-widgets/base",
            "_view_module_version": "1.2.0",
            "_view_name": "StyleView",
            "bar_color": null,
            "description_width": ""
          }
        },
        "663a5bab8d6a45f0bbe60bd556bc3d0d": {
          "model_module": "@jupyter-widgets/base",
          "model_name": "LayoutModel",
          "model_module_version": "1.2.0",
          "state": {
            "_model_module": "@jupyter-widgets/base",
            "_model_module_version": "1.2.0",
            "_model_name": "LayoutModel",
            "_view_count": null,
            "_view_module": "@jupyter-widgets/base",
            "_view_module_version": "1.2.0",
            "_view_name": "LayoutView",
            "align_content": null,
            "align_items": null,
            "align_self": null,
            "border": null,
            "bottom": null,
            "display": null,
            "flex": null,
            "flex_flow": null,
            "grid_area": null,
            "grid_auto_columns": null,
            "grid_auto_flow": null,
            "grid_auto_rows": null,
            "grid_column": null,
            "grid_gap": null,
            "grid_row": null,
            "grid_template_areas": null,
            "grid_template_columns": null,
            "grid_template_rows": null,
            "height": null,
            "justify_content": null,
            "justify_items": null,
            "left": null,
            "margin": null,
            "max_height": null,
            "max_width": null,
            "min_height": null,
            "min_width": null,
            "object_fit": null,
            "object_position": null,
            "order": null,
            "overflow": null,
            "overflow_x": null,
            "overflow_y": null,
            "padding": null,
            "right": null,
            "top": null,
            "visibility": null,
            "width": null
          }
        },
        "b5486f60a2864393b24e5a795dc21528": {
          "model_module": "@jupyter-widgets/controls",
          "model_name": "DescriptionStyleModel",
          "model_module_version": "1.5.0",
          "state": {
            "_model_module": "@jupyter-widgets/controls",
            "_model_module_version": "1.5.0",
            "_model_name": "DescriptionStyleModel",
            "_view_count": null,
            "_view_module": "@jupyter-widgets/base",
            "_view_module_version": "1.2.0",
            "_view_name": "StyleView",
            "description_width": ""
          }
        }
      }
    }
  },
  "nbformat": 4,
  "nbformat_minor": 5
}